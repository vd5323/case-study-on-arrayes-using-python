{
  "nbformat": 4,
  "nbformat_minor": 0,
  "metadata": {
    "colab": {
      "name": "Untitled1.ipynb",
      "provenance": [],
      "authorship_tag": "ABX9TyMHuJIZNa/Y0Ky3Guq0wK6y",
      "include_colab_link": true
    },
    "kernelspec": {
      "name": "python3",
      "display_name": "Python 3"
    },
    "language_info": {
      "name": "python"
    }
  },
  "cells": [
    {
      "cell_type": "markdown",
      "metadata": {
        "id": "view-in-github",
        "colab_type": "text"
      },
      "source": [
        "<a href=\"https://colab.research.google.com/github/vd5323/case-study-on-arrayes-using-python/blob/main/Untitled1.ipynb\" target=\"_parent\"><img src=\"https://colab.research.google.com/assets/colab-badge.svg\" alt=\"Open In Colab\"/></a>"
      ]
    },
    {
      "cell_type": "code",
      "execution_count": 3,
      "metadata": {
        "colab": {
          "base_uri": "https://localhost:8080/"
        },
        "id": "daehZf0E5AMB",
        "outputId": "373ce7c3-815a-461e-d17e-61fab48adb2d"
      },
      "outputs": [
        {
          "output_type": "stream",
          "name": "stdout",
          "text": [
            "array('i', [1, 2, 3, 4])\n",
            "array('i', [1, 2, 3, 4, 5, 6, 7])\n"
          ]
        }
      ],
      "source": [
        "import array as arr\n",
        "\n",
        "numbers = arr.array('i', [1, 2, 3])\n",
        "\n",
        "numbers.append(4)\n",
        "print(numbers)     \n",
        "\n",
        "\n",
        "numbers.extend([5, 6, 7])\n",
        "print(numbers)"
      ]
    }
  ]
}